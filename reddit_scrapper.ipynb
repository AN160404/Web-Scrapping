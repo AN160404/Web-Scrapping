{
 "cells": [
  {
   "cell_type": "markdown",
   "id": "63fb43b0",
   "metadata": {},
   "source": [
    "### Dynamically Scrapping Communities"
   ]
  },
  {
   "cell_type": "code",
   "execution_count": 1,
   "id": "56caecc0",
   "metadata": {},
   "outputs": [
    {
     "name": "stdout",
     "output_type": "stream",
     "text": [
      "Requirement already satisfied: praw in c:\\python312\\lib\\site-packages (7.8.1)\n",
      "Requirement already satisfied: prawcore<3,>=2.4 in c:\\python312\\lib\\site-packages (from praw) (2.4.0)\n",
      "Requirement already satisfied: update_checker>=0.18 in c:\\python312\\lib\\site-packages (from praw) (0.18.0)\n",
      "Requirement already satisfied: websocket-client>=0.54.0 in c:\\python312\\lib\\site-packages (from praw) (1.8.0)\n",
      "Requirement already satisfied: requests<3.0,>=2.6.0 in c:\\python312\\lib\\site-packages (from prawcore<3,>=2.4->praw) (2.32.3)\n",
      "Requirement already satisfied: charset-normalizer<4,>=2 in c:\\python312\\lib\\site-packages (from requests<3.0,>=2.6.0->prawcore<3,>=2.4->praw) (3.3.2)\n",
      "Requirement already satisfied: idna<4,>=2.5 in c:\\python312\\lib\\site-packages (from requests<3.0,>=2.6.0->prawcore<3,>=2.4->praw) (3.7)\n",
      "Requirement already satisfied: urllib3<3,>=1.21.1 in c:\\python312\\lib\\site-packages (from requests<3.0,>=2.6.0->prawcore<3,>=2.4->praw) (1.26.20)\n",
      "Requirement already satisfied: certifi>=2017.4.17 in c:\\python312\\lib\\site-packages (from requests<3.0,>=2.6.0->prawcore<3,>=2.4->praw) (2024.7.4)\n",
      "Note: you may need to restart the kernel to use updated packages.\n"
     ]
    },
    {
     "name": "stderr",
     "output_type": "stream",
     "text": [
      "\n",
      "[notice] A new release of pip is available: 25.1.1 -> 25.2\n",
      "[notice] To update, run: python.exe -m pip install --upgrade pip\n"
     ]
    }
   ],
   "source": [
    "%pip install praw"
   ]
  },
  {
   "cell_type": "code",
   "execution_count": 2,
   "id": "668b0f53",
   "metadata": {},
   "outputs": [],
   "source": [
    "import praw"
   ]
  },
  {
   "cell_type": "code",
   "execution_count": 3,
   "id": "8910523c",
   "metadata": {},
   "outputs": [
    {
     "name": "stdout",
     "output_type": "stream",
     "text": [
      "movies\n",
      "HorrorMovies\n",
      "badMovies\n",
      "MovieSuggestions\n",
      "horror\n",
      "MoviesTrue\n",
      "AbsurdMovies\n",
      "moviescirclejerk\n",
      "AskReddit\n",
      "MoviesAnywhere\n",
      "MalayalamMovies\n",
      "Letterboxd\n",
      "boxoffice\n",
      "MoviesTelugu\n",
      "movies_free\n",
      "Showerthoughts\n",
      "flicks\n",
      "TheFreeMovies\n",
      "FreeMoviesOnlineHD\n",
      "bollywood\n",
      "unpopularopinion\n",
      "underratedmovies\n",
      "ForeignMovies\n",
      "moviecritic\n",
      "marvelstudios\n",
      "HallmarkMovies\n",
      "Moviesinthemaking\n",
      "dvdcollection\n",
      "harrypotter\n",
      "JapaneseMovies\n",
      "Marvel_Movies\n",
      "NetflixBestOf\n",
      "criterion\n",
      "80smovies\n",
      "romancemovies\n",
      "StarWars\n",
      "blankies\n",
      "TurnerClassicMovies\n",
      "90smovies\n",
      "kollywood\n",
      "ifyoulikeblank\n",
      "Movieswhilehigh\n",
      "3FrameMovies\n",
      "NoStupidQuestions\n",
      "DC_Cinematic\n",
      "Moviesdrama\n",
      "WarMovies\n",
      "todayilearned\n",
      "teenagers\n",
      "WeHateMovies\n"
     ]
    }
   ],
   "source": [
    "reddit = praw.Reddit(\n",
    "    client_id='osgpUSdtz5hdOpGF6TkoFA',\n",
    "    client_secret='L8kKtgKIy6A5q3e8b8XNbKT29Zgvlg',\n",
    "    user_agent='MyRedditScraper/0.1 by Minute_Fee9525'\n",
    ")\n",
    "\n",
    "for subreddit in reddit.subreddits.search('movies', limit=50):\n",
    "    print(subreddit.display_name)"
   ]
  }
 ],
 "metadata": {
  "kernelspec": {
   "display_name": "Python 3",
   "language": "python",
   "name": "python3"
  },
  "language_info": {
   "codemirror_mode": {
    "name": "ipython",
    "version": 3
   },
   "file_extension": ".py",
   "mimetype": "text/x-python",
   "name": "python",
   "nbconvert_exporter": "python",
   "pygments_lexer": "ipython3",
   "version": "3.12.4"
  }
 },
 "nbformat": 4,
 "nbformat_minor": 5
}
